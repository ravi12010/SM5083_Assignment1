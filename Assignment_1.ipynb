{
  "nbformat": 4,
  "nbformat_minor": 0,
  "metadata": {
    "colab": {
      "name": "Assignment_1.ipynb",
      "provenance": []
    },
    "kernelspec": {
      "name": "python3",
      "display_name": "Python 3"
    },
    "language_info": {
      "name": "python"
    }
  },
  "cells": [
    {
      "cell_type": "code",
      "metadata": {
        "id": "pok2pR64QjwM",
        "colab": {
          "base_uri": "https://localhost:8080/"
        },
        "outputId": "52bedbbb-ad88-4b13-d347-bc877b595f57"
      },
      "source": [
        "def distSq(p, q):\n",
        "    return (p[0] - q[0]) * (p[0] - q[0]) +\\\n",
        "           (p[1] - q[1]) * (p[1] - q[1]) \n",
        "def isSquare(p1, p2, p3, p4):\n",
        " \n",
        "    d2 = distSq(p1, p2) # from p1 to p2\n",
        "    d3 = distSq(p1, p3) # from p1 to p3\n",
        "    d4 = distSq(p1, p4) # from p1 to p4\n",
        " \n",
        "    if d2 == 0 or d3 == 0 or d4 == 0:   \n",
        "        return False\n",
        "    if d2 == d3 and 2 * d2 == d4 and \\\n",
        "                    2 * distSq(p2, p4) == distSq(p2, p3):\n",
        "        return True\n",
        "    if d3 == d4 and 2 * d3 == d2 and \\\n",
        "                    2 * distSq(p3, p2) == distSq(p3, p4):\n",
        "        return True\n",
        "    if d2 == d4 and 2 * d2 == d3 and \\\n",
        "                    2 * distSq(p2, p3) == distSq(p2, p4):\n",
        "        return True\n",
        " \n",
        "    return False\n",
        "    \n",
        "if __name__==\"__main__\":\n",
        "    p1 = [20, 10]\n",
        "    p2 = [10, 20]\n",
        "    p3 = [20, 20]\n",
        "    p4 = [10, 10]\n",
        "     \n",
        "    if isSquare(p1, p2, p3, p4):\n",
        "        print('Yes')\n",
        "    else:\n",
        "        print('No')\n",
        "                 "
      ],
      "execution_count": 20,
      "outputs": [
        {
          "output_type": "stream",
          "text": [
            "Yes\n"
          ],
          "name": "stdout"
        }
      ]
    }
  ]
}